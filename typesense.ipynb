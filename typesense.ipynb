{
 "cells": [
  {
   "cell_type": "code",
   "execution_count": 2,
   "id": "f86b15dd",
   "metadata": {},
   "outputs": [],
   "source": [
    "import typesense\n",
    "client=typesense.Client({\n",
    "  'nodes': [{\n",
    "    'host': '4ptvbsdywi62nh01p-1.a1.typesense.net',  # For Typesense Cloud use xxx.a1.typesense.net\n",
    "    'port': '443',       # For Typesense Cloud use 443\n",
    "    'protocol': 'https'    # For Typesense Cloud use https\n",
    "  }],\n",
    "  'api_key':'ZKcKnHKu0o1XQDNlPAnt7Vltv8wFx2NU',\n",
    "  'connection_timeout_seconds': 5\n",
    "})\n"
   ]
  },
  {
   "cell_type": "code",
   "execution_count": 4,
   "id": "756f04dc",
   "metadata": {},
   "outputs": [
    {
     "name": "stdout",
     "output_type": "stream",
     "text": [
      "<typesense.client.Client object at 0x000002591F08B8C0>\n"
     ]
    }
   ],
   "source": [
    "print(client)"
   ]
  },
  {
   "cell_type": "code",
   "execution_count": 32,
   "id": "dc7bfd92",
   "metadata": {},
   "outputs": [
    {
     "name": "stdout",
     "output_type": "stream",
     "text": [
      "{'created_at': 1761775529, 'default_sorting_field': 'graduates', 'enable_nested_fields': False, 'fields': [{'facet': False, 'index': True, 'infix': False, 'locale': '', 'name': 'school', 'optional': False, 'sort': False, 'stem': False, 'stem_dictionary': '', 'store': True, 'type': 'string'}, {'facet': True, 'index': True, 'infix': False, 'locale': '', 'name': 'year', 'optional': False, 'sort': True, 'stem': False, 'stem_dictionary': '', 'store': True, 'type': 'int32'}, {'facet': True, 'index': True, 'infix': False, 'locale': '', 'name': 'month', 'optional': False, 'sort': False, 'stem': False, 'stem_dictionary': '', 'store': True, 'type': 'string'}, {'facet': False, 'index': True, 'infix': False, 'locale': '', 'name': 'gender', 'optional': False, 'sort': False, 'stem': False, 'stem_dictionary': '', 'store': True, 'type': 'string'}, {'facet': False, 'index': True, 'infix': False, 'locale': '', 'name': 'major', 'optional': False, 'sort': False, 'stem': False, 'stem_dictionary': '', 'store': True, 'type': 'string'}, {'facet': False, 'index': True, 'infix': False, 'locale': '', 'name': 'debt', 'optional': False, 'sort': True, 'stem': False, 'stem_dictionary': '', 'store': True, 'type': 'float'}, {'facet': False, 'index': True, 'infix': False, 'locale': '', 'name': 'graduates', 'optional': False, 'sort': True, 'stem': False, 'stem_dictionary': '', 'store': True, 'type': 'int32'}, {'facet': False, 'index': True, 'infix': False, 'locale': '', 'name': 'unemployed', 'optional': False, 'sort': True, 'stem': False, 'stem_dictionary': '', 'store': True, 'type': 'int32'}], 'name': 'CollegeMajorData', 'num_documents': 0, 'symbols_to_index': [], 'token_separators': []}\n"
     ]
    }
   ],
   "source": [
    "college_schema = {\n",
    "  'name': 'CollegeMajorData',\n",
    "  'fields': [\n",
    "    {'name': 'school', 'type': 'string'},\n",
    "    {'name': 'year', 'type': 'int32', 'facet': True},\n",
    "    {'name': 'month', 'type': 'string', 'facet': True},    \n",
    "    {'name': 'gender', 'type': 'string'},\n",
    "    {'name': 'major', 'type': 'string'},\n",
    "    {'name': 'debt', 'type': 'float'},\n",
    "    {'name': 'graduates', 'type': 'int32'},\n",
    "    {'name': 'unemployed', 'type': 'int32'},\n",
    "\n",
    "  ],\n",
    "  'default_sorting_field': 'graduates'\n",
    "}\n",
    "print(client.collections.create(college_schema))"
   ]
  },
  {
   "cell_type": "code",
   "execution_count": 8,
   "id": "18485cde",
   "metadata": {},
   "outputs": [],
   "source": [
    "import csv\n",
    "# \"../data/pdf_files\"\n",
    "# loader=TextLoader(\"../data/csv/python_intro.txt\",encoding=\"utf-8\")\n",
    "# with open(\"../data/csv/collegemajorsdata2.csv\", 'r', newline='') as csvfile:\n",
    "with open('collegeMajor.jsonl', 'r', encoding='utf-8') as jsonl_file:\n",
    "    data = jsonl_file.read()\n",
    "    # print(data)\n",
    "    client.collections['CollegeMajorData'].documents.import_(data)\n"
   ]
  },
  {
   "cell_type": "code",
   "execution_count": 29,
   "id": "039d9afc",
   "metadata": {},
   "outputs": [
    {
     "name": "stdout",
     "output_type": "stream",
     "text": [
      "{'created_at': 1761775358, 'default_sorting_field': 'ratings_count', 'enable_nested_fields': False, 'fields': [{'facet': False, 'index': True, 'infix': False, 'locale': '', 'name': 'title', 'optional': False, 'sort': False, 'stem': False, 'stem_dictionary': '', 'store': True, 'type': 'string'}, {'facet': True, 'index': True, 'infix': False, 'locale': '', 'name': 'authors', 'optional': False, 'sort': False, 'stem': False, 'stem_dictionary': '', 'store': True, 'type': 'string[]'}, {'facet': True, 'index': True, 'infix': False, 'locale': '', 'name': 'publication_year', 'optional': False, 'sort': True, 'stem': False, 'stem_dictionary': '', 'store': True, 'type': 'int32'}, {'facet': False, 'index': True, 'infix': False, 'locale': '', 'name': 'ratings_count', 'optional': False, 'sort': True, 'stem': False, 'stem_dictionary': '', 'store': True, 'type': 'int32'}, {'facet': False, 'index': True, 'infix': False, 'locale': '', 'name': 'average_rating', 'optional': False, 'sort': True, 'stem': False, 'stem_dictionary': '', 'store': True, 'type': 'float'}], 'name': 'books', 'num_documents': 0, 'symbols_to_index': [], 'token_separators': []}\n"
     ]
    }
   ],
   "source": [
    "books_schema = {\n",
    "  'name': 'books',\n",
    "  'fields': [\n",
    "    {'name': 'title', 'type': 'string'},\n",
    "    {'name': 'authors', 'type': 'string[]', 'facet': True},\n",
    "    {'name': 'publication_year', 'type': 'int32', 'facet': True},\n",
    "    {'name': 'ratings_count', 'type': 'int32'},\n",
    "    {'name': 'average_rating', 'type': 'float'}\n",
    "  ],\n",
    "  'default_sorting_field': 'ratings_count'\n",
    "}\n",
    "print(client.collections.create(books_schema))"
   ]
  },
  {
   "cell_type": "code",
   "execution_count": 9,
   "id": "e6d70100",
   "metadata": {},
   "outputs": [],
   "source": [
    "with open('books.jsonl', 'r', encoding='utf-8') as jsonl_file:\n",
    "    data = jsonl_file.read()\n",
    "    client.collections['books'].documents.import_(data)"
   ]
  },
  {
   "cell_type": "code",
   "execution_count": null,
   "id": "c4069d94",
   "metadata": {},
   "outputs": [],
   "source": [
    "search_parameters={\n",
    "    'q':\"harry potter\",\n",
    "    'query_by':\"title,authors\",\n",
    "    'sort_by':\"ratings_count:desc\"\n",
    "}\n",
    "\n",
    "client.collections['books'].documents.search(search_parameters)"
   ]
  },
  {
   "cell_type": "code",
   "execution_count": 10,
   "id": "a7540ca5",
   "metadata": {},
   "outputs": [
    {
     "data": {
      "text/plain": [
       "{'facet_counts': [],\n",
       " 'found': 1,\n",
       " 'hits': [{'document': {'authors': ['J.K. Rowling', ' Mary GrandPré'],\n",
       "    'average_rating': 4.44,\n",
       "    'id': '2',\n",
       "    'image_url': 'https://images.gr-assets.com/books/1474154022m/3.jpg',\n",
       "    'publication_year': 1997,\n",
       "    'ratings_count': 4602479,\n",
       "    'title': \"Harry Potter and the Philosopher's Stone\"},\n",
       "   'highlight': {'title': {'matched_tokens': ['Harry', 'Potter'],\n",
       "     'snippet': \"<mark>Harry</mark> <mark>Potter</mark> and the Philosopher's Stone\"}},\n",
       "   'highlights': [{'field': 'title',\n",
       "     'matched_tokens': ['Harry', 'Potter'],\n",
       "     'snippet': \"<mark>Harry</mark> <mark>Potter</mark> and the Philosopher's Stone\"}],\n",
       "   'text_match': 1157451471441100921,\n",
       "   'text_match_info': {'best_field_score': '2211897868288',\n",
       "    'best_field_weight': 15,\n",
       "    'fields_matched': 1,\n",
       "    'num_tokens_dropped': 0,\n",
       "    'score': '1157451471441100921',\n",
       "    'tokens_matched': 2,\n",
       "    'typo_prefix_score': 0}}],\n",
       " 'out_of': 9979,\n",
       " 'page': 1,\n",
       " 'request_params': {'collection_name': 'books',\n",
       "  'first_q': 'harry potter',\n",
       "  'per_page': 10,\n",
       "  'q': 'harry potter'},\n",
       " 'search_cutoff': False,\n",
       " 'search_time_ms': 7}"
      ]
     },
     "execution_count": 10,
     "metadata": {},
     "output_type": "execute_result"
    }
   ],
   "source": [
    "search_parameters = {\n",
    "  'q'         : 'harry potter',\n",
    "  'query_by'  : 'title',\n",
    "  'filter_by' : 'publication_year:<1998',\n",
    "  'sort_by'   : 'publication_year:desc'\n",
    "}\n",
    "\n",
    "client.collections['books'].documents.search(search_parameters)"
   ]
  },
  {
   "cell_type": "code",
   "execution_count": 13,
   "id": "e034bc8b",
   "metadata": {},
   "outputs": [],
   "source": [
    "### Langchain + Typsense + Groq LLM + RAG Application\n",
    "\n",
    "from langchain_community.document_loaders import TextLoader\n",
    "from langchain_community.vectorstores import Typesense\n",
    "from langchain_text_splitters import CharacterTextSplitter\n",
    "from langchain_community.embeddings import HuggingFaceEmbeddings\n",
    "from langchain_groq import ChatGroq"
   ]
  },
  {
   "cell_type": "code",
   "execution_count": null,
   "id": "8f1056e3",
   "metadata": {},
   "outputs": [],
   "source": [
    "import os\n",
    "os.environ[\"GROQ_API_KEY\"] = \"\""
   ]
  },
  {
   "cell_type": "code",
   "execution_count": 14,
   "id": "e25f15a4",
   "metadata": {},
   "outputs": [
    {
     "name": "stderr",
     "output_type": "stream",
     "text": [
      "C:\\Users\\samin\\AppData\\Local\\Temp\\ipykernel_17652\\13807947.py:6: LangChainDeprecationWarning: The class `HuggingFaceEmbeddings` was deprecated in LangChain 0.2.2 and will be removed in 1.0. An updated version of the class exists in the `langchain-huggingface package and should be used instead. To use it run `pip install -U `langchain-huggingface` and import as `from `langchain_huggingface import HuggingFaceEmbeddings``.\n",
      "  embeddings = HuggingFaceEmbeddings()\n",
      "C:\\Users\\samin\\AppData\\Local\\Temp\\ipykernel_17652\\13807947.py:6: LangChainDeprecationWarning: Default values for HuggingFaceEmbeddings.model_name were deprecated in LangChain 0.2.16 and will be removed in 0.4.0. Explicitly pass a model_name to the HuggingFaceEmbeddings constructor instead.\n",
      "  embeddings = HuggingFaceEmbeddings()\n",
      "Xet Storage is enabled for this repo, but the 'hf_xet' package is not installed. Falling back to regular HTTP download. For better performance, install the package with: `pip install huggingface_hub[hf_xet]` or `pip install hf_xet`\n"
     ]
    }
   ],
   "source": [
    "loader = TextLoader(\"test.txt\")\n",
    "documents = loader.load()\n",
    "text_splitter = CharacterTextSplitter(chunk_size=1000, chunk_overlap=100)\n",
    "docs = text_splitter.split_documents(documents)\n",
    "\n",
    "embeddings = HuggingFaceEmbeddings()"
   ]
  },
  {
   "cell_type": "code",
   "execution_count": 15,
   "id": "e460c3e6",
   "metadata": {},
   "outputs": [],
   "source": [
    "docsearch=Typesense.from_documents(\n",
    "    docs,\n",
    "    embeddings,\n",
    "    typesense_client_params={\n",
    "        \"host\": \"4ptvbsdywi62nh01p-1.a1.typesense.net\",  # Use xxx.a1.typesense.net for Typesense Cloud\n",
    "        \"port\": \"443\",  # Use 443 for Typesense Cloud\n",
    "        \"protocol\": \"https\",  # Use https for Typesense Cloud\n",
    "        \"typesense_api_key\":\"ZKcKnHKu0o1XQDNlPAnt7Vltv8wFx2NU\",\n",
    "        \"typesense_collection_name\": \"lang-chain\"\n",
    "    },\n",
    "    \n",
    ")"
   ]
  },
  {
   "cell_type": "code",
   "execution_count": 16,
   "id": "172f99c3",
   "metadata": {},
   "outputs": [
    {
     "name": "stdout",
     "output_type": "stream",
     "text": [
      "A\n",
      "LangChain agent is a system that uses a large language model (LLM) as a reasoning engine to decide which actions to take, and in what sequence, to accomplish a task. Unlike a simple chain, which follows a predefined set of steps, an agent can dynamically choose its path based on the user's input and the results it observes. \n",
      "How a LangChain agent works\n",
      "The process is an iterative loop in which the agent receives a high-level goal and then follows these steps:\n"
     ]
    }
   ],
   "source": [
    "\n",
    "\n",
    "query = \"How LangChain agent works\"\n",
    "found_docs = docsearch.similarity_search(query)\n",
    "print(found_docs[0].page_content)\n",
    "\n"
   ]
  },
  {
   "cell_type": "code",
   "execution_count": null,
   "id": "a63bd847",
   "metadata": {},
   "outputs": [],
   "source": [
    "### Retriever\n",
    "retriever = docsearch.as_retriever()\n",
    "retriever"
   ]
  },
  {
   "cell_type": "code",
   "execution_count": null,
   "id": "06007bca",
   "metadata": {},
   "outputs": [],
   "source": [
    "\n",
    "\n",
    "query = \"LangChain explanation\"\n",
    "retriever.invoke(query)[0]\n",
    "\n"
   ]
  }
 ],
 "metadata": {
  "kernelspec": {
   "display_name": "YTRAG",
   "language": "python",
   "name": "python3"
  },
  "language_info": {
   "codemirror_mode": {
    "name": "ipython",
    "version": 3
   },
   "file_extension": ".py",
   "mimetype": "text/x-python",
   "name": "python",
   "nbconvert_exporter": "python",
   "pygments_lexer": "ipython3",
   "version": "3.13.2"
  }
 },
 "nbformat": 4,
 "nbformat_minor": 5
}
